{
 "cells": [
  {
   "cell_type": "code",
   "execution_count": 6,
   "id": "018615d8",
   "metadata": {},
   "outputs": [],
   "source": [
    "import cv2\n",
    "import mediapipe as mp\n",
    "import os\n",
    "\n",
    "import numpy as np\n",
    "import pandas as pd\n",
    "import csv\n",
    "import matplotlib.pyplot as plt\n",
    "\n",
    "import argparse\n",
    "import itertools\n",
    "import copy\n",
    "\n",
    "import pickle\n",
    "\n",
    "import tensorflow as tf\n",
    "from tensorflow import keras\n",
    "from tflite_support import flatbuffers\n",
    "from tflite_support import metadata as _metadata\n",
    "from tflite_support import metadata_schema_py_generated as _metadata_fb\n",
    "\n",
    "from sklearn.model_selection import train_test_split\n",
    "from sklearn.metrics import accuracy_score, classification_report, confusion_matrix"
   ]
  },
  {
   "cell_type": "markdown",
   "id": "92c24dfe",
   "metadata": {},
   "source": [
    "##### Labels for prediction"
   ]
  },
  {
   "cell_type": "code",
   "execution_count": 7,
   "id": "d42c1098",
   "metadata": {},
   "outputs": [],
   "source": [
    "labels = ['A','B','C','D','E','F','G','H','I','J','K','L','M','N','O','P','Q','R','S','T','U','V','W','X','Y','Z']\n",
    "numLabels = len(labels)"
   ]
  },
  {
   "cell_type": "markdown",
   "id": "7efb6f5c",
   "metadata": {},
   "source": [
    "## Capturing landmarks for building dataset\n",
    "First two cells are for initialization of CSVs"
   ]
  },
  {
   "cell_type": "code",
   "execution_count": 3,
   "id": "b1ac382c",
   "metadata": {
    "scrolled": false
   },
   "outputs": [],
   "source": [
    "# num_coords = len(results.right_hand_landmarks.landmark)\n",
    "# landmarks = ['label']\n",
    "# for val in range(1, num_coords+1):\n",
    "#     landmarks += ['x{}'.format(val), 'y{}'.format(val), 'z{}'.format(val), 'v{}'.format(val)]\n",
    "    \n",
    "# print(landmarks)"
   ]
  },
  {
   "cell_type": "code",
   "execution_count": 4,
   "id": "f5f936ff",
   "metadata": {},
   "outputs": [],
   "source": [
    "# with open('hol_landmarks_right.csv', mode='w', newline='') as f:\n",
    "#                             csv_writer = csv.writer(f, delimiter=',', quotechar='\"')\n",
    "#                             csv_writer.writerow(landmarks)\n",
    "# with open('hol_landmarks_left.csv', mode='w', newline='') as f:\n",
    "#                             csv_writer = csv.writer(f, delimiter=',', quotechar='\"')\n",
    "#                             csv_writer.writerow(landmarks)"
   ]
  },
  {
   "cell_type": "code",
   "execution_count": 5,
   "id": "bae7b8af",
   "metadata": {},
   "outputs": [],
   "source": [
    "def write_to_csv_right(label,landmarks):\n",
    "    path = 'hol_landmarks_right.csv'\n",
    "    with open(path, 'a', newline=\"\") as f:\n",
    "        r_row = csv.writer(f)\n",
    "        r_row.writerow([label, *landmarks])\n",
    "    return\n",
    "\n",
    "def write_to_csv_left(label,landmarks):\n",
    "    path = 'hol_landmarks_left.csv'\n",
    "    with open(path, 'a', newline=\"\") as f:\n",
    "        l_row = csv.writer(f)\n",
    "        l_row.writerow([label, *landmarks])\n",
    "    return"
   ]
  },
  {
   "cell_type": "markdown",
   "id": "a2613984",
   "metadata": {},
   "source": [
    "#### Important Functions"
   ]
  },
  {
   "cell_type": "code",
   "execution_count": 6,
   "id": "f3a8d9e0",
   "metadata": {},
   "outputs": [],
   "source": [
    "def getLabel(key):\n",
    "    label = chr(key)\n",
    "    return label"
   ]
  },
  {
   "cell_type": "code",
   "execution_count": 12,
   "id": "c1a36fb1",
   "metadata": {},
   "outputs": [],
   "source": [
    "def preprocess_landmark(landmarks):\n",
    "    temp_landmarks = copy.deepcopy(landmarks)\n",
    "    base_x, base_y = 0, 0\n",
    "    for index, landmark_point in enumerate(temp_landmarks):\n",
    "        if index == 0:\n",
    "            base_x, base_y = landmark_point[0], landmark_point[1]\n",
    "        temp_landmarks[index][0] = temp_landmarks[index][0] - base_x\n",
    "        temp_landmarks[index][1] = temp_landmarks[index][1] - base_y\n",
    "\n",
    "    temp_landmarks = list(itertools.chain.from_iterable(temp_landmarks))\n",
    "    max_value = max(list(map(abs, temp_landmarks)))\n",
    "\n",
    "    def normalize_(n):\n",
    "        return n / max_value\n",
    "    temp_landmarks = list(map(normalize_, temp_landmarks))\n",
    "    \n",
    "    return temp_landmarks"
   ]
  },
  {
   "cell_type": "code",
   "execution_count": 11,
   "id": "39fa18eb",
   "metadata": {},
   "outputs": [],
   "source": [
    "def calc_landmark_list(image, landmarks):\n",
    "    image_width, image_height = image.shape[1], image.shape[0]\n",
    "\n",
    "    landmark_point = []\n",
    "\n",
    "    # Keypoint\n",
    "    for _, landmark in enumerate(landmarks.landmark):\n",
    "        landmark_x = min(int(landmark.x * image_width), image_width - 1)\n",
    "        landmark_y = min(int(landmark.y * image_height), image_height - 1)\n",
    "        # landmark_z = landmark.z\n",
    "\n",
    "        landmark_point.append([landmark_x, landmark_y])\n",
    "\n",
    "    return landmark_point"
   ]
  },
  {
   "cell_type": "markdown",
   "id": "33d694f7",
   "metadata": {},
   "source": [
    "## Read preprocessed landmarks into a dataset\n",
    "Pressing a letter will write whatever the current landmarks drawn are to the dataset with the associated label index"
   ]
  },
  {
   "cell_type": "code",
   "execution_count": 86,
   "id": "e17a6fd3",
   "metadata": {},
   "outputs": [],
   "source": [
    "mphands = mp.solutions.hands\n",
    "hands = mphands.Hands(\n",
    "        static_image_mode=True,\n",
    "        max_num_hands=1,\n",
    "        min_detection_confidence=0.7,\n",
    "        min_tracking_confidence=0.5,\n",
    "    )\n",
    "mp_drawing = mp.solutions.drawing_utils\n",
    "cap = cv2.VideoCapture(0)\n",
    "cap.set(cv2.CAP_PROP_FRAME_WIDTH, 960)\n",
    "cap.set(cv2.CAP_PROP_FRAME_HEIGHT, 540)\n",
    "\n",
    "_, frame = cap.read()\n",
    "h, w, c = frame.shape\n",
    "\n",
    "index = 0\n",
    "\n",
    "while True:\n",
    "    key=cv2.waitKey(2)\n",
    "    if key != -1:\n",
    "        label=getLabel(key).upper()\n",
    "        #print(label)\n",
    "    _, frame = cap.read()\n",
    "    img_debug=copy.deepcopy(frame)\n",
    "    framergb = cv2.cvtColor(frame, cv2.COLOR_BGR2RGB)\n",
    "    framergb.flags.writeable = True\n",
    "    result = hands.process(framergb)\n",
    "    framergb.flags.writeable = False\n",
    "    hand_landmarks = result.multi_hand_landmarks\n",
    "    if hand_landmarks:\n",
    "        for handLMs in hand_landmarks:\n",
    "            x_max = 0\n",
    "            y_max = 0\n",
    "            x_min = w\n",
    "            y_min = h\n",
    "            #print(handLMs)\n",
    "            landmarks = calc_landmark_list(framergb, handLMs)\n",
    "            #print(landmarks)\n",
    "            pre_processed_landmarks = preprocess_landmark(landmarks)\n",
    "            #print(pre_processed_landmarks)\n",
    "            try:\n",
    "                temp_key=getLabel(cv2.waitKey(2)).upper()\n",
    "                if temp_key == label and temp_key != '0':\n",
    "                    write_to_csv_right(ord(label)-65,pre_processed_landmarks)\n",
    "                    index += 1\n",
    "                    if index == 300:\n",
    "                        print(f'Data Max for {label}')\n",
    "                        index = 0\n",
    "            except:\n",
    "                pass\n",
    "            for lm in handLMs.landmark:\n",
    "                x, y = int(lm.x * w), int(lm.y * h)\n",
    "                if x > x_max:\n",
    "                    x_max = x\n",
    "                if x < x_min:\n",
    "                    x_min = x\n",
    "                if y > y_max:\n",
    "                    y_max = y\n",
    "                if y < y_min:\n",
    "                    y_min = y\n",
    "            cv2.rectangle(frame, (x_min, y_min), (x_max, y_max), (0, 255, 0), 2)\n",
    "            mp_drawing.draw_landmarks(frame, handLMs, mphands.HAND_CONNECTIONS)\n",
    "    cv2.imshow(\"Get landmarks for dataset\", frame)\n",
    "    if cv2.waitKey(10) & 0xFF == ord('0'):\n",
    "            break\n",
    "cap.release()\n",
    "cv2.destroyAllWindows()"
   ]
  },
  {
   "cell_type": "markdown",
   "id": "f73e6cd1",
   "metadata": {},
   "source": [
    "# Training Model using SciKit \n",
    "### (EXPERIMENTATION BEFORE TF MODELLING)"
   ]
  },
  {
   "cell_type": "code",
   "execution_count": null,
   "id": "e2470a8a",
   "metadata": {},
   "outputs": [],
   "source": [
    "from sklearn.pipeline import make_pipeline\n",
    "from sklearn.preprocessing import StandardScaler\n",
    "from sklearn.linear_model import LogisticRegression, RidgeClassifier\n",
    "from sklearn.ensemble import RandomForestClassifier, GradientBoostingClassifier"
   ]
  },
  {
   "cell_type": "code",
   "execution_count": 20,
   "id": "9baf6389",
   "metadata": {
    "scrolled": true
   },
   "outputs": [],
   "source": [
    "df = pd.read_csv('hol_landmarks.csv')"
   ]
  },
  {
   "cell_type": "code",
   "execution_count": 12,
   "id": "febbef21",
   "metadata": {},
   "outputs": [],
   "source": [
    "X = df.drop('label', axis=1)\n",
    "y = df['label']"
   ]
  },
  {
   "cell_type": "code",
   "execution_count": 13,
   "id": "f3ba931c",
   "metadata": {},
   "outputs": [],
   "source": [
    "X_train, X_test, y_train, y_test = train_test_split(X, y, test_size=0.3, random_state=1234)"
   ]
  },
  {
   "cell_type": "code",
   "execution_count": 16,
   "id": "3ab7bde6",
   "metadata": {},
   "outputs": [],
   "source": [
    "pipelines = {\n",
    "    'lr':make_pipeline(StandardScaler(), LogisticRegression()),\n",
    "    'rc':make_pipeline(StandardScaler(), RidgeClassifier()),\n",
    "    'rf':make_pipeline(StandardScaler(), RandomForestClassifier()),\n",
    "    'gb':make_pipeline(StandardScaler(), GradientBoostingClassifier())\n",
    "}"
   ]
  },
  {
   "cell_type": "code",
   "execution_count": 17,
   "id": "2a36f358",
   "metadata": {},
   "outputs": [
    {
     "data": {
      "text/plain": [
       "Pipeline(steps=[('standardscaler', StandardScaler()),\n",
       "                ('logisticregression', LogisticRegression())])"
      ]
     },
     "execution_count": 17,
     "metadata": {},
     "output_type": "execute_result"
    }
   ],
   "source": [
    "list(pipelines.values())[0]"
   ]
  },
  {
   "cell_type": "code",
   "execution_count": null,
   "id": "58a657d7",
   "metadata": {},
   "outputs": [],
   "source": [
    "fit_models = {}\n",
    "for algo, pipeline in pipelines.items():\n",
    "    model = pipeline.fit(X_train.values, y_train)\n",
    "    fit_models[algo] = model"
   ]
  },
  {
   "cell_type": "code",
   "execution_count": 19,
   "id": "94047119",
   "metadata": {},
   "outputs": [
    {
     "data": {
      "text/plain": [
       "{'lr': Pipeline(steps=[('standardscaler', StandardScaler()),\n",
       "                 ('logisticregression', LogisticRegression())]),\n",
       " 'rc': Pipeline(steps=[('standardscaler', StandardScaler()),\n",
       "                 ('ridgeclassifier', RidgeClassifier())]),\n",
       " 'rf': Pipeline(steps=[('standardscaler', StandardScaler()),\n",
       "                 ('randomforestclassifier', RandomForestClassifier())]),\n",
       " 'gb': Pipeline(steps=[('standardscaler', StandardScaler()),\n",
       "                 ('gradientboostingclassifier', GradientBoostingClassifier())])}"
      ]
     },
     "execution_count": 19,
     "metadata": {},
     "output_type": "execute_result"
    }
   ],
   "source": [
    "fit_models"
   ]
  },
  {
   "cell_type": "code",
   "execution_count": null,
   "id": "c712f7da",
   "metadata": {},
   "outputs": [],
   "source": [
    "fit_models['rf'].predict(X_test)"
   ]
  },
  {
   "cell_type": "code",
   "execution_count": null,
   "id": "60398acc",
   "metadata": {},
   "outputs": [],
   "source": [
    "for algo, model in fit_models.items():\n",
    "    yhat = model.predict(X_test)\n",
    "    print(algo, accuracy_score(y_test, yhat))"
   ]
  },
  {
   "cell_type": "code",
   "execution_count": 23,
   "id": "31f35a03",
   "metadata": {},
   "outputs": [],
   "source": [
    "with open('sign_language_gb.pkl', 'wb') as f:\n",
    "    pickle.dump(fit_models['gb'], f)"
   ]
  },
  {
   "cell_type": "markdown",
   "id": "e8c6b1ac",
   "metadata": {},
   "source": [
    "# Testing Detections"
   ]
  },
  {
   "cell_type": "markdown",
   "id": "746572ac",
   "metadata": {},
   "source": [
    "### Detection for pickle model"
   ]
  },
  {
   "cell_type": "code",
   "execution_count": 22,
   "id": "a16c88d2",
   "metadata": {},
   "outputs": [],
   "source": [
    "with open('sign_language_gb.pkl', 'rb') as f:\n",
    "    model = pickle.load(f)"
   ]
  },
  {
   "cell_type": "code",
   "execution_count": 87,
   "id": "52715065",
   "metadata": {},
   "outputs": [
    {
     "ename": "NameError",
     "evalue": "name 'mp_holistic' is not defined",
     "output_type": "error",
     "traceback": [
      "\u001b[1;31m---------------------------------------------------------------------------\u001b[0m",
      "\u001b[1;31mNameError\u001b[0m                                 Traceback (most recent call last)",
      "\u001b[1;32m~\\AppData\\Local\\Temp\\ipykernel_27800\\752166100.py\u001b[0m in \u001b[0;36m<module>\u001b[1;34m\u001b[0m\n\u001b[0;32m      1\u001b[0m \u001b[0mcap\u001b[0m \u001b[1;33m=\u001b[0m \u001b[0mcv2\u001b[0m\u001b[1;33m.\u001b[0m\u001b[0mVideoCapture\u001b[0m\u001b[1;33m(\u001b[0m\u001b[1;36m0\u001b[0m\u001b[1;33m)\u001b[0m\u001b[1;33m\u001b[0m\u001b[1;33m\u001b[0m\u001b[0m\n\u001b[0;32m      2\u001b[0m \u001b[1;31m# Initiate holistic model\u001b[0m\u001b[1;33m\u001b[0m\u001b[1;33m\u001b[0m\u001b[1;33m\u001b[0m\u001b[0m\n\u001b[1;32m----> 3\u001b[1;33m \u001b[1;32mwith\u001b[0m \u001b[0mmp_holistic\u001b[0m\u001b[1;33m.\u001b[0m\u001b[0mHolistic\u001b[0m\u001b[1;33m(\u001b[0m\u001b[0mmin_detection_confidence\u001b[0m\u001b[1;33m=\u001b[0m\u001b[1;36m0.5\u001b[0m\u001b[1;33m,\u001b[0m \u001b[0mmin_tracking_confidence\u001b[0m\u001b[1;33m=\u001b[0m\u001b[1;36m0.5\u001b[0m\u001b[1;33m)\u001b[0m \u001b[1;32mas\u001b[0m \u001b[0mholistic\u001b[0m\u001b[1;33m:\u001b[0m\u001b[1;33m\u001b[0m\u001b[1;33m\u001b[0m\u001b[0m\n\u001b[0m\u001b[0;32m      4\u001b[0m \u001b[1;33m\u001b[0m\u001b[0m\n\u001b[0;32m      5\u001b[0m \u001b[1;33m\u001b[0m\u001b[0m\n",
      "\u001b[1;31mNameError\u001b[0m: name 'mp_holistic' is not defined"
     ]
    }
   ],
   "source": [
    "cap = cv2.VideoCapture(0)\n",
    "mp_holistic = mp.solutions.holistic\n",
    "mp_drawing = mp.solutions.drawing_utils\n",
    "# Initiate holistic model\n",
    "with mp_holistic.Holistic(min_detection_confidence=0.5, min_tracking_confidence=0.5) as holistic:\n",
    "\n",
    "    \n",
    "    while cap.isOpened():\n",
    "        ret, frame = cap.read()\n",
    "        \n",
    "        # Recolor Feed\n",
    "        image = cv2.cvtColor(frame, cv2.COLOR_BGR2RGB)\n",
    "        image.flags.writeable = False\n",
    "        # Make Detections\n",
    "        results = holistic.process(image)\n",
    "        \n",
    "        # Recolor image back to BGR for rendering\n",
    "        image.flags.writeable = True\n",
    "        image = cv2.cvtColor(image, cv2.COLOR_RGB2BGR)\n",
    "        \n",
    "        mp_drawing.draw_landmarks(image, results.right_hand_landmarks, mp_holistic.HAND_CONNECTIONS, \n",
    "                                 mp_drawing.DrawingSpec(color=(80,22,10), thickness=2, circle_radius=4),\n",
    "                                 mp_drawing.DrawingSpec(color=(80,44,121), thickness=2, circle_radius=2)\n",
    "                                 )\n",
    "        mp_drawing.draw_landmarks(image, results.left_hand_landmarks, mp_holistic.HAND_CONNECTIONS, \n",
    "                                 mp_drawing.DrawingSpec(color=(121,22,76), thickness=2, circle_radius=4),\n",
    "                                 mp_drawing.DrawingSpec(color=(121,44,250), thickness=2, circle_radius=2)\n",
    "                                 )\n",
    "        \n",
    "        try:\n",
    "            #Extract right hand landmarks\n",
    "            sign_right = results.right_hand_landmarks.landmark\n",
    "            sign_right_row = list(np.array([[landmark.x, landmark.y, landmark.z, landmark.visibility] for landmark in sign_right]).flatten())\n",
    "            testX = pd.DataFrame([sign_right_row])\n",
    "            sign_language_class = model.predict(testX)[0]\n",
    "            sign_language_prob = model.predict_proba(testX)[0]\n",
    "            image = cv2.putText(image, \"{}\".format(sign_language_class), (90,400), cv2.FONT_HERSHEY_SIMPLEX, 3, (0,0,0), 5)\n",
    "            #print(sign_language_class, sign_language_prob)\n",
    "        except:\n",
    "            pass\n",
    "                        \n",
    "        cv2.imshow('Hand Model Frames', image)\n",
    "\n",
    "        if cv2.waitKey(10) & 0xFF == ord('x'):\n",
    "            break\n",
    "\n",
    "cap.release()\n",
    "cv2.destroyAllWindows()"
   ]
  },
  {
   "cell_type": "markdown",
   "id": "0e8ea582",
   "metadata": {},
   "source": [
    "# TensorFlow NN Model Training"
   ]
  },
  {
   "cell_type": "markdown",
   "id": "7ec51d5c",
   "metadata": {},
   "source": [
    "#### Paths"
   ]
  },
  {
   "cell_type": "code",
   "execution_count": 52,
   "id": "fd36a6a6",
   "metadata": {},
   "outputs": [],
   "source": [
    "landmarks_dataset = 'hol_landmarks_right.csv'\n",
    "#landmarks_dataset = 'hol_landmarks_left.csv'\n",
    "model_path = 'sign_lang_detect_right.hdf5'\n",
    "tflite_right_save_path = 'sign_lang_detect_right.tflite'\n",
    "#tflite_left_save_path = 'sign_lang_detect_left.tflite'"
   ]
  },
  {
   "cell_type": "markdown",
   "id": "3f90f8f3",
   "metadata": {},
   "source": [
    "#### Get data from CSV"
   ]
  },
  {
   "cell_type": "code",
   "execution_count": 53,
   "id": "1e9f3c26",
   "metadata": {},
   "outputs": [],
   "source": [
    "tdf = pd.read_csv(landmarks_dataset)\n",
    "X = np.loadtxt(landmarks_dataset, delimiter=',', dtype='float32', usecols=list(range(1, (21 * 2) + 1)))\n",
    "y = np.loadtxt(landmarks_dataset, delimiter=',', dtype='int32', usecols=(0))"
   ]
  },
  {
   "cell_type": "code",
   "execution_count": 54,
   "id": "373cf9ca",
   "metadata": {},
   "outputs": [],
   "source": [
    "X_train, X_test, y_train, y_test = train_test_split(X, y, test_size=0.25, random_state=42)"
   ]
  },
  {
   "cell_type": "markdown",
   "id": "8375cf53",
   "metadata": {},
   "source": [
    "#### Define Model"
   ]
  },
  {
   "cell_type": "code",
   "execution_count": 55,
   "id": "e98f1504",
   "metadata": {
    "scrolled": false
   },
   "outputs": [
    {
     "name": "stdout",
     "output_type": "stream",
     "text": [
      "Model: \"sequential_2\"\n",
      "_________________________________________________________________\n",
      " Layer (type)                Output Shape              Param #   \n",
      "=================================================================\n",
      " dropout_4 (Dropout)         (None, 42)                0         \n",
      "                                                                 \n",
      " dense_6 (Dense)             (None, 20)                860       \n",
      "                                                                 \n",
      " dropout_5 (Dropout)         (None, 20)                0         \n",
      "                                                                 \n",
      " dense_7 (Dense)             (None, 10)                210       \n",
      "                                                                 \n",
      " dense_8 (Dense)             (None, 26)                286       \n",
      "                                                                 \n",
      "=================================================================\n",
      "Total params: 1,356\n",
      "Trainable params: 1,356\n",
      "Non-trainable params: 0\n",
      "_________________________________________________________________\n"
     ]
    }
   ],
   "source": [
    "tf_model = tf.keras.models.Sequential([\n",
    "    tf.keras.layers.Input((21 * 2, )),\n",
    "    tf.keras.layers.Dropout(0.2),\n",
    "    tf.keras.layers.Dense(20, activation='relu'),\n",
    "    tf.keras.layers.Dropout(0.4),\n",
    "    tf.keras.layers.Dense(10, activation='relu'),\n",
    "    tf.keras.layers.Dense(numLabels, activation='softmax')\n",
    "])\n",
    "\n",
    "tf_model.summary()"
   ]
  },
  {
   "cell_type": "code",
   "execution_count": 56,
   "id": "a0f46d16",
   "metadata": {},
   "outputs": [],
   "source": [
    "tf_model.compile(\n",
    "    optimizer='adam',\n",
    "    loss='sparse_categorical_crossentropy',\n",
    "    metrics=['accuracy']\n",
    ")\n",
    "checkpoint_path = model_path\n",
    "checkpoint = keras.callbacks.ModelCheckpoint(checkpoint_path,\n",
    "                             monitor='val_accuracy',\n",
    "                             verbose=1,\n",
    "                             save_best_only=True,\n",
    "                             mode='max')\n",
    "earlystopping = keras.callbacks.EarlyStopping(monitor='val_accuracy', \n",
    "                                              patience=20)"
   ]
  },
  {
   "cell_type": "markdown",
   "id": "78228562",
   "metadata": {},
   "source": [
    "#### Train Model"
   ]
  },
  {
   "cell_type": "code",
   "execution_count": 57,
   "id": "c3f6dfb2",
   "metadata": {},
   "outputs": [
    {
     "name": "stdout",
     "output_type": "stream",
     "text": [
      "Epoch 1/1000\n",
      "45/46 [============================>.] - ETA: 0s - loss: 3.2579 - accuracy: 0.0538\n",
      "Epoch 1: val_accuracy improved from -inf to 0.14936, saving model to sign_lang_detect_right.hdf5\n",
      "46/46 [==============================] - 0s 4ms/step - loss: 3.2561 - accuracy: 0.0546 - val_loss: 3.1588 - val_accuracy: 0.1494\n",
      "Epoch 2/1000\n",
      " 1/46 [..............................] - ETA: 0s - loss: 3.1557 - accuracy: 0.0859\n",
      "Epoch 2: val_accuracy did not improve from 0.14936\n",
      "46/46 [==============================] - 0s 2ms/step - loss: 3.1177 - accuracy: 0.0905 - val_loss: 2.9901 - val_accuracy: 0.1028\n",
      "Epoch 3/1000\n",
      " 1/46 [..............................] - ETA: 0s - loss: 3.0681 - accuracy: 0.0859\n",
      "Epoch 3: val_accuracy improved from 0.14936 to 0.18670, saving model to sign_lang_detect_right.hdf5\n",
      "46/46 [==============================] - 0s 2ms/step - loss: 2.9848 - accuracy: 0.1057 - val_loss: 2.8118 - val_accuracy: 0.1867\n",
      "Epoch 4/1000\n",
      " 1/46 [..............................] - ETA: 0s - loss: 2.9583 - accuracy: 0.1484\n",
      "Epoch 4: val_accuracy improved from 0.18670 to 0.23120, saving model to sign_lang_detect_right.hdf5\n",
      "46/46 [==============================] - 0s 2ms/step - loss: 2.8617 - accuracy: 0.1478 - val_loss: 2.6584 - val_accuracy: 0.2312\n",
      "Epoch 5/1000\n",
      " 1/46 [..............................] - ETA: 0s - loss: 2.7199 - accuracy: 0.1797\n",
      "Epoch 5: val_accuracy improved from 0.23120 to 0.32839, saving model to sign_lang_detect_right.hdf5\n",
      "46/46 [==============================] - 0s 2ms/step - loss: 2.7269 - accuracy: 0.1870 - val_loss: 2.4999 - val_accuracy: 0.3284\n",
      "Epoch 6/1000\n",
      " 1/46 [..............................] - ETA: 0s - loss: 2.6086 - accuracy: 0.2031\n",
      "Epoch 6: val_accuracy improved from 0.32839 to 0.36471, saving model to sign_lang_detect_right.hdf5\n",
      "46/46 [==============================] - 0s 2ms/step - loss: 2.5960 - accuracy: 0.2092 - val_loss: 2.3271 - val_accuracy: 0.3647\n",
      "Epoch 7/1000\n",
      "46/46 [==============================] - ETA: 0s - loss: 2.4867 - accuracy: 0.2380\n",
      "Epoch 7: val_accuracy improved from 0.36471 to 0.43171, saving model to sign_lang_detect_right.hdf5\n",
      "46/46 [==============================] - 0s 2ms/step - loss: 2.4867 - accuracy: 0.2380 - val_loss: 2.1742 - val_accuracy: 0.4317\n",
      "Epoch 8/1000\n",
      " 1/46 [..............................] - ETA: 0s - loss: 2.5084 - accuracy: 0.2578\n",
      "Epoch 8: val_accuracy improved from 0.43171 to 0.43887, saving model to sign_lang_detect_right.hdf5\n",
      "46/46 [==============================] - 0s 2ms/step - loss: 2.3785 - accuracy: 0.2655 - val_loss: 2.0359 - val_accuracy: 0.4389\n",
      "Epoch 9/1000\n",
      "42/46 [==========================>...] - ETA: 0s - loss: 2.2638 - accuracy: 0.2887\n",
      "Epoch 9: val_accuracy improved from 0.43887 to 0.55243, saving model to sign_lang_detect_right.hdf5\n",
      "46/46 [==============================] - 0s 2ms/step - loss: 2.2659 - accuracy: 0.2868 - val_loss: 1.8933 - val_accuracy: 0.5524\n",
      "Epoch 10/1000\n",
      "44/46 [===========================>..] - ETA: 0s - loss: 2.1627 - accuracy: 0.3132\n",
      "Epoch 10: val_accuracy improved from 0.55243 to 0.60153, saving model to sign_lang_detect_right.hdf5\n",
      "46/46 [==============================] - 0s 2ms/step - loss: 2.1640 - accuracy: 0.3120 - val_loss: 1.7720 - val_accuracy: 0.6015\n",
      "Epoch 11/1000\n",
      " 1/46 [..............................] - ETA: 0s - loss: 2.1100 - accuracy: 0.3125\n",
      "Epoch 11: val_accuracy improved from 0.60153 to 0.61176, saving model to sign_lang_detect_right.hdf5\n",
      "46/46 [==============================] - 0s 2ms/step - loss: 2.1128 - accuracy: 0.3253 - val_loss: 1.6789 - val_accuracy: 0.6118\n",
      "Epoch 12/1000\n",
      " 1/46 [..............................] - ETA: 0s - loss: 1.9147 - accuracy: 0.4062\n",
      "Epoch 12: val_accuracy improved from 0.61176 to 0.71611, saving model to sign_lang_detect_right.hdf5\n",
      "46/46 [==============================] - 0s 2ms/step - loss: 2.0362 - accuracy: 0.3444 - val_loss: 1.5992 - val_accuracy: 0.7161\n",
      "Epoch 13/1000\n",
      " 1/46 [..............................] - ETA: 0s - loss: 1.9227 - accuracy: 0.4062\n",
      "Epoch 13: val_accuracy did not improve from 0.71611\n",
      "46/46 [==============================] - 0s 2ms/step - loss: 1.9844 - accuracy: 0.3548 - val_loss: 1.5284 - val_accuracy: 0.6916\n",
      "Epoch 14/1000\n",
      " 1/46 [..............................] - ETA: 0s - loss: 1.9677 - accuracy: 0.3281\n",
      "Epoch 14: val_accuracy did not improve from 0.71611\n",
      "46/46 [==============================] - 0s 2ms/step - loss: 1.9287 - accuracy: 0.3710 - val_loss: 1.4608 - val_accuracy: 0.6916\n",
      "Epoch 15/1000\n",
      " 1/46 [..............................] - ETA: 0s - loss: 1.9271 - accuracy: 0.4141\n",
      "Epoch 15: val_accuracy improved from 0.71611 to 0.72379, saving model to sign_lang_detect_right.hdf5\n",
      "46/46 [==============================] - 0s 2ms/step - loss: 1.8966 - accuracy: 0.3894 - val_loss: 1.4007 - val_accuracy: 0.7238\n",
      "Epoch 16/1000\n",
      " 1/46 [..............................] - ETA: 0s - loss: 1.6915 - accuracy: 0.4375\n",
      "Epoch 16: val_accuracy improved from 0.72379 to 0.78210, saving model to sign_lang_detect_right.hdf5\n",
      "46/46 [==============================] - 0s 2ms/step - loss: 1.8450 - accuracy: 0.3906 - val_loss: 1.3537 - val_accuracy: 0.7821\n",
      "Epoch 17/1000\n",
      "45/46 [============================>.] - ETA: 0s - loss: 1.8070 - accuracy: 0.4016\n",
      "Epoch 17: val_accuracy did not improve from 0.78210\n",
      "46/46 [==============================] - 0s 2ms/step - loss: 1.8037 - accuracy: 0.4027 - val_loss: 1.2973 - val_accuracy: 0.7494\n",
      "Epoch 18/1000\n",
      "46/46 [==============================] - ETA: 0s - loss: 1.7945 - accuracy: 0.4114\n",
      "Epoch 18: val_accuracy improved from 0.78210 to 0.79079, saving model to sign_lang_detect_right.hdf5\n",
      "46/46 [==============================] - 0s 2ms/step - loss: 1.7945 - accuracy: 0.4114 - val_loss: 1.2777 - val_accuracy: 0.7908\n",
      "Epoch 19/1000\n",
      " 1/46 [..............................] - ETA: 0s - loss: 1.8424 - accuracy: 0.3594\n",
      "Epoch 19: val_accuracy improved from 0.79079 to 0.79335, saving model to sign_lang_detect_right.hdf5\n",
      "46/46 [==============================] - 0s 2ms/step - loss: 1.7492 - accuracy: 0.4188 - val_loss: 1.2356 - val_accuracy: 0.7934\n",
      "Epoch 20/1000\n",
      " 1/46 [..............................] - ETA: 0s - loss: 1.5663 - accuracy: 0.4609\n",
      "Epoch 20: val_accuracy improved from 0.79335 to 0.80358, saving model to sign_lang_detect_right.hdf5\n",
      "46/46 [==============================] - 0s 2ms/step - loss: 1.7130 - accuracy: 0.4227 - val_loss: 1.1747 - val_accuracy: 0.8036\n",
      "Epoch 21/1000\n",
      " 1/46 [..............................] - ETA: 0s - loss: 1.7251 - accuracy: 0.3750\n",
      "Epoch 21: val_accuracy improved from 0.80358 to 0.80409, saving model to sign_lang_detect_right.hdf5\n",
      "46/46 [==============================] - 0s 2ms/step - loss: 1.7152 - accuracy: 0.4179 - val_loss: 1.1572 - val_accuracy: 0.8041\n",
      "Epoch 22/1000\n",
      " 1/46 [..............................] - ETA: 0s - loss: 1.6517 - accuracy: 0.4609\n",
      "Epoch 22: val_accuracy improved from 0.80409 to 0.81176, saving model to sign_lang_detect_right.hdf5\n",
      "46/46 [==============================] - 0s 2ms/step - loss: 1.6675 - accuracy: 0.4426 - val_loss: 1.1076 - val_accuracy: 0.8118\n",
      "Epoch 23/1000\n",
      " 1/46 [..............................] - ETA: 0s - loss: 1.5637 - accuracy: 0.4844\n",
      "Epoch 23: val_accuracy improved from 0.81176 to 0.82302, saving model to sign_lang_detect_right.hdf5\n",
      "46/46 [==============================] - 0s 2ms/step - loss: 1.6364 - accuracy: 0.4532 - val_loss: 1.0753 - val_accuracy: 0.8230\n",
      "Epoch 24/1000\n",
      " 1/46 [..............................] - ETA: 0s - loss: 1.6072 - accuracy: 0.4844\n",
      "Epoch 24: val_accuracy improved from 0.82302 to 0.83325, saving model to sign_lang_detect_right.hdf5\n",
      "46/46 [==============================] - 0s 2ms/step - loss: 1.6187 - accuracy: 0.4612 - val_loss: 1.0397 - val_accuracy: 0.8332\n",
      "Epoch 25/1000\n",
      " 1/46 [..............................] - ETA: 0s - loss: 1.7305 - accuracy: 0.4062\n",
      "Epoch 25: val_accuracy did not improve from 0.83325\n",
      "46/46 [==============================] - 0s 2ms/step - loss: 1.6005 - accuracy: 0.4435 - val_loss: 1.0195 - val_accuracy: 0.8077\n",
      "Epoch 26/1000\n",
      " 1/46 [..............................] - ETA: 0s - loss: 1.6251 - accuracy: 0.3750\n",
      "Epoch 26: val_accuracy improved from 0.83325 to 0.83785, saving model to sign_lang_detect_right.hdf5\n",
      "46/46 [==============================] - 0s 2ms/step - loss: 1.5951 - accuracy: 0.4622 - val_loss: 0.9871 - val_accuracy: 0.8379\n"
     ]
    },
    {
     "name": "stdout",
     "output_type": "stream",
     "text": [
      "Epoch 27/1000\n",
      " 1/46 [..............................] - ETA: 0s - loss: 1.4718 - accuracy: 0.5078\n",
      "Epoch 27: val_accuracy improved from 0.83785 to 0.84399, saving model to sign_lang_detect_right.hdf5\n",
      "46/46 [==============================] - 0s 2ms/step - loss: 1.5563 - accuracy: 0.4631 - val_loss: 0.9631 - val_accuracy: 0.8440\n",
      "Epoch 28/1000\n",
      " 1/46 [..............................] - ETA: 0s - loss: 1.6654 - accuracy: 0.4609\n",
      "Epoch 28: val_accuracy did not improve from 0.84399\n",
      "46/46 [==============================] - 0s 2ms/step - loss: 1.5284 - accuracy: 0.4791 - val_loss: 0.9435 - val_accuracy: 0.8384\n",
      "Epoch 29/1000\n",
      " 1/46 [..............................] - ETA: 0s - loss: 1.4782 - accuracy: 0.5000\n",
      "Epoch 29: val_accuracy did not improve from 0.84399\n",
      "46/46 [==============================] - 0s 2ms/step - loss: 1.5272 - accuracy: 0.4810 - val_loss: 0.9165 - val_accuracy: 0.8353\n",
      "Epoch 30/1000\n",
      " 1/46 [..............................] - ETA: 0s - loss: 1.4987 - accuracy: 0.5000\n",
      "Epoch 30: val_accuracy did not improve from 0.84399\n",
      "46/46 [==============================] - 0s 2ms/step - loss: 1.5012 - accuracy: 0.4982 - val_loss: 0.9041 - val_accuracy: 0.8210\n",
      "Epoch 31/1000\n",
      " 1/46 [..............................] - ETA: 0s - loss: 1.5351 - accuracy: 0.5234\n",
      "Epoch 31: val_accuracy improved from 0.84399 to 0.85882, saving model to sign_lang_detect_right.hdf5\n",
      "46/46 [==============================] - 0s 2ms/step - loss: 1.4776 - accuracy: 0.5026 - val_loss: 0.8678 - val_accuracy: 0.8588\n",
      "Epoch 32/1000\n",
      " 1/46 [..............................] - ETA: 0s - loss: 1.5350 - accuracy: 0.5078\n",
      "Epoch 32: val_accuracy improved from 0.85882 to 0.86036, saving model to sign_lang_detect_right.hdf5\n",
      "46/46 [==============================] - 0s 2ms/step - loss: 1.4636 - accuracy: 0.5011 - val_loss: 0.8593 - val_accuracy: 0.8604\n",
      "Epoch 33/1000\n",
      " 1/46 [..............................] - ETA: 0s - loss: 1.3650 - accuracy: 0.5625\n",
      "Epoch 33: val_accuracy improved from 0.86036 to 0.86343, saving model to sign_lang_detect_right.hdf5\n",
      "46/46 [==============================] - 0s 2ms/step - loss: 1.4629 - accuracy: 0.5045 - val_loss: 0.8406 - val_accuracy: 0.8634\n",
      "Epoch 34/1000\n",
      " 1/46 [..............................] - ETA: 0s - loss: 1.6066 - accuracy: 0.4766\n",
      "Epoch 34: val_accuracy improved from 0.86343 to 0.86905, saving model to sign_lang_detect_right.hdf5\n",
      "46/46 [==============================] - 0s 2ms/step - loss: 1.4449 - accuracy: 0.5030 - val_loss: 0.8262 - val_accuracy: 0.8691\n",
      "Epoch 35/1000\n",
      " 1/46 [..............................] - ETA: 0s - loss: 1.4853 - accuracy: 0.4688\n",
      "Epoch 35: val_accuracy did not improve from 0.86905\n",
      "46/46 [==============================] - 0s 2ms/step - loss: 1.4324 - accuracy: 0.5175 - val_loss: 0.8080 - val_accuracy: 0.8527\n",
      "Epoch 36/1000\n",
      " 1/46 [..............................] - ETA: 0s - loss: 1.5410 - accuracy: 0.4531\n",
      "Epoch 36: val_accuracy did not improve from 0.86905\n",
      "46/46 [==============================] - 0s 2ms/step - loss: 1.4158 - accuracy: 0.5149 - val_loss: 0.7976 - val_accuracy: 0.8506\n",
      "Epoch 37/1000\n",
      " 1/46 [..............................] - ETA: 0s - loss: 1.4707 - accuracy: 0.5234\n",
      "Epoch 37: val_accuracy did not improve from 0.86905\n",
      "46/46 [==============================] - 0s 2ms/step - loss: 1.4234 - accuracy: 0.5158 - val_loss: 0.7811 - val_accuracy: 0.8512\n",
      "Epoch 38/1000\n",
      " 1/46 [..............................] - ETA: 0s - loss: 1.4549 - accuracy: 0.6094\n",
      "Epoch 38: val_accuracy improved from 0.86905 to 0.87570, saving model to sign_lang_detect_right.hdf5\n",
      "46/46 [==============================] - 0s 2ms/step - loss: 1.3990 - accuracy: 0.5173 - val_loss: 0.7666 - val_accuracy: 0.8757\n",
      "Epoch 39/1000\n",
      " 1/46 [..............................] - ETA: 0s - loss: 1.2452 - accuracy: 0.5703\n",
      "Epoch 39: val_accuracy did not improve from 0.87570\n",
      "46/46 [==============================] - 0s 2ms/step - loss: 1.3942 - accuracy: 0.5344 - val_loss: 0.7594 - val_accuracy: 0.8302\n",
      "Epoch 40/1000\n",
      "43/46 [===========================>..] - ETA: 0s - loss: 1.3632 - accuracy: 0.5423\n",
      "Epoch 40: val_accuracy improved from 0.87570 to 0.87621, saving model to sign_lang_detect_right.hdf5\n",
      "46/46 [==============================] - 0s 2ms/step - loss: 1.3650 - accuracy: 0.5420 - val_loss: 0.7397 - val_accuracy: 0.8762\n",
      "Epoch 41/1000\n",
      "45/46 [============================>.] - ETA: 0s - loss: 1.3509 - accuracy: 0.5342\n",
      "Epoch 41: val_accuracy did not improve from 0.87621\n",
      "46/46 [==============================] - 0s 2ms/step - loss: 1.3512 - accuracy: 0.5345 - val_loss: 0.7230 - val_accuracy: 0.8680\n",
      "Epoch 42/1000\n",
      " 1/46 [..............................] - ETA: 0s - loss: 1.3590 - accuracy: 0.5234\n",
      "Epoch 42: val_accuracy did not improve from 0.87621\n",
      "46/46 [==============================] - 0s 2ms/step - loss: 1.3573 - accuracy: 0.5345 - val_loss: 0.7153 - val_accuracy: 0.8670\n",
      "Epoch 43/1000\n",
      " 1/46 [..............................] - ETA: 0s - loss: 1.2354 - accuracy: 0.5859\n",
      "Epoch 43: val_accuracy improved from 0.87621 to 0.89514, saving model to sign_lang_detect_right.hdf5\n",
      "46/46 [==============================] - 0s 2ms/step - loss: 1.3259 - accuracy: 0.5482 - val_loss: 0.7017 - val_accuracy: 0.8951\n",
      "Epoch 44/1000\n",
      " 1/46 [..............................] - ETA: 0s - loss: 1.3203 - accuracy: 0.5859\n",
      "Epoch 44: val_accuracy did not improve from 0.89514\n",
      "46/46 [==============================] - 0s 2ms/step - loss: 1.3344 - accuracy: 0.5448 - val_loss: 0.7023 - val_accuracy: 0.8798\n",
      "Epoch 45/1000\n",
      " 1/46 [..............................] - ETA: 0s - loss: 1.2514 - accuracy: 0.5391\n",
      "Epoch 45: val_accuracy did not improve from 0.89514\n",
      "46/46 [==============================] - 0s 2ms/step - loss: 1.3107 - accuracy: 0.5487 - val_loss: 0.6847 - val_accuracy: 0.8777\n",
      "Epoch 46/1000\n",
      " 1/46 [..............................] - ETA: 0s - loss: 1.2874 - accuracy: 0.5547\n",
      "Epoch 46: val_accuracy did not improve from 0.89514\n",
      "46/46 [==============================] - 0s 2ms/step - loss: 1.3315 - accuracy: 0.5292 - val_loss: 0.6836 - val_accuracy: 0.8685\n",
      "Epoch 47/1000\n",
      " 1/46 [..............................] - ETA: 0s - loss: 1.3070 - accuracy: 0.5391\n",
      "Epoch 47: val_accuracy improved from 0.89514 to 0.90281, saving model to sign_lang_detect_right.hdf5\n",
      "46/46 [==============================] - 0s 2ms/step - loss: 1.2964 - accuracy: 0.5604 - val_loss: 0.6647 - val_accuracy: 0.9028\n",
      "Epoch 48/1000\n",
      " 1/46 [..............................] - ETA: 0s - loss: 1.2010 - accuracy: 0.5547\n",
      "Epoch 48: val_accuracy did not improve from 0.90281\n",
      "46/46 [==============================] - 0s 2ms/step - loss: 1.3006 - accuracy: 0.5516 - val_loss: 0.6690 - val_accuracy: 0.8639\n",
      "Epoch 49/1000\n",
      " 1/46 [..............................] - ETA: 0s - loss: 1.1978 - accuracy: 0.6250\n",
      "Epoch 49: val_accuracy did not improve from 0.90281\n",
      "46/46 [==============================] - 0s 2ms/step - loss: 1.3043 - accuracy: 0.5596 - val_loss: 0.6513 - val_accuracy: 0.8880\n",
      "Epoch 50/1000\n",
      " 1/46 [..............................] - ETA: 0s - loss: 1.3591 - accuracy: 0.4766\n",
      "Epoch 50: val_accuracy did not improve from 0.90281\n",
      "46/46 [==============================] - 0s 2ms/step - loss: 1.2920 - accuracy: 0.5574 - val_loss: 0.6454 - val_accuracy: 0.8808\n",
      "Epoch 51/1000\n",
      " 1/46 [..............................] - ETA: 0s - loss: 1.3081 - accuracy: 0.6172\n",
      "Epoch 51: val_accuracy did not improve from 0.90281\n",
      "46/46 [==============================] - 0s 2ms/step - loss: 1.2860 - accuracy: 0.5546 - val_loss: 0.6391 - val_accuracy: 0.8926\n",
      "Epoch 52/1000\n",
      " 1/46 [..............................] - ETA: 0s - loss: 1.4235 - accuracy: 0.5234\n",
      "Epoch 52: val_accuracy did not improve from 0.90281\n",
      "46/46 [==============================] - 0s 2ms/step - loss: 1.2537 - accuracy: 0.5732 - val_loss: 0.6301 - val_accuracy: 0.8972\n",
      "Epoch 53/1000\n",
      " 1/46 [..............................] - ETA: 0s - loss: 1.3102 - accuracy: 0.5000\n",
      "Epoch 53: val_accuracy did not improve from 0.90281\n",
      "46/46 [==============================] - 0s 2ms/step - loss: 1.2617 - accuracy: 0.5698 - val_loss: 0.6260 - val_accuracy: 0.8716\n",
      "Epoch 54/1000\n",
      " 1/46 [..............................] - ETA: 0s - loss: 1.1931 - accuracy: 0.5781\n",
      "Epoch 54: val_accuracy did not improve from 0.90281\n",
      "46/46 [==============================] - 0s 2ms/step - loss: 1.2754 - accuracy: 0.5587 - val_loss: 0.6265 - val_accuracy: 0.9028\n"
     ]
    },
    {
     "name": "stdout",
     "output_type": "stream",
     "text": [
      "Epoch 55/1000\n",
      " 1/46 [..............................] - ETA: 0s - loss: 1.2455 - accuracy: 0.6016\n",
      "Epoch 55: val_accuracy did not improve from 0.90281\n",
      "46/46 [==============================] - 0s 2ms/step - loss: 1.2482 - accuracy: 0.5707 - val_loss: 0.6166 - val_accuracy: 0.8977\n",
      "Epoch 56/1000\n",
      "46/46 [==============================] - ETA: 0s - loss: 1.2563 - accuracy: 0.5608\n",
      "Epoch 56: val_accuracy did not improve from 0.90281\n",
      "46/46 [==============================] - 0s 2ms/step - loss: 1.2563 - accuracy: 0.5608 - val_loss: 0.6065 - val_accuracy: 0.8752\n",
      "Epoch 57/1000\n",
      "40/46 [=========================>....] - ETA: 0s - loss: 1.2465 - accuracy: 0.5721\n",
      "Epoch 57: val_accuracy did not improve from 0.90281\n",
      "46/46 [==============================] - 0s 2ms/step - loss: 1.2552 - accuracy: 0.5691 - val_loss: 0.6008 - val_accuracy: 0.8726\n",
      "Epoch 58/1000\n",
      "46/46 [==============================] - ETA: 0s - loss: 1.2302 - accuracy: 0.5814\n",
      "Epoch 58: val_accuracy did not improve from 0.90281\n",
      "46/46 [==============================] - 0s 2ms/step - loss: 1.2302 - accuracy: 0.5814 - val_loss: 0.5909 - val_accuracy: 0.8798\n",
      "Epoch 59/1000\n",
      " 1/46 [..............................] - ETA: 0s - loss: 1.1906 - accuracy: 0.6094\n",
      "Epoch 59: val_accuracy did not improve from 0.90281\n",
      "46/46 [==============================] - 0s 2ms/step - loss: 1.2367 - accuracy: 0.5749 - val_loss: 0.5849 - val_accuracy: 0.9023\n",
      "Epoch 60/1000\n",
      " 1/46 [..............................] - ETA: 0s - loss: 1.3363 - accuracy: 0.5312\n",
      "Epoch 60: val_accuracy did not improve from 0.90281\n",
      "46/46 [==============================] - 0s 2ms/step - loss: 1.2168 - accuracy: 0.5797 - val_loss: 0.5804 - val_accuracy: 0.8962\n",
      "Epoch 61/1000\n",
      " 1/46 [..............................] - ETA: 0s - loss: 1.3217 - accuracy: 0.5391\n",
      "Epoch 61: val_accuracy did not improve from 0.90281\n",
      "46/46 [==============================] - 0s 2ms/step - loss: 1.2290 - accuracy: 0.5748 - val_loss: 0.5817 - val_accuracy: 0.9013\n",
      "Epoch 62/1000\n",
      " 1/46 [..............................] - ETA: 0s - loss: 1.2714 - accuracy: 0.5703\n",
      "Epoch 62: val_accuracy did not improve from 0.90281\n",
      "46/46 [==============================] - 0s 2ms/step - loss: 1.2134 - accuracy: 0.5811 - val_loss: 0.5744 - val_accuracy: 0.8982\n",
      "Epoch 63/1000\n",
      " 1/46 [..............................] - ETA: 0s - loss: 1.1646 - accuracy: 0.6172\n",
      "Epoch 63: val_accuracy did not improve from 0.90281\n",
      "46/46 [==============================] - 0s 2ms/step - loss: 1.1782 - accuracy: 0.5915 - val_loss: 0.5610 - val_accuracy: 0.9028\n",
      "Epoch 64/1000\n",
      " 1/46 [..............................] - ETA: 0s - loss: 1.1694 - accuracy: 0.5859\n",
      "Epoch 64: val_accuracy did not improve from 0.90281\n",
      "46/46 [==============================] - 0s 2ms/step - loss: 1.1924 - accuracy: 0.5906 - val_loss: 0.5558 - val_accuracy: 0.8818\n",
      "Epoch 65/1000\n",
      " 1/46 [..............................] - ETA: 0s - loss: 1.0751 - accuracy: 0.6797\n",
      "Epoch 65: val_accuracy did not improve from 0.90281\n",
      "46/46 [==============================] - 0s 2ms/step - loss: 1.2048 - accuracy: 0.5836 - val_loss: 0.5539 - val_accuracy: 0.8824\n",
      "Epoch 66/1000\n",
      " 1/46 [..............................] - ETA: 0s - loss: 1.1820 - accuracy: 0.5547\n",
      "Epoch 66: val_accuracy improved from 0.90281 to 0.90742, saving model to sign_lang_detect_right.hdf5\n",
      "46/46 [==============================] - 0s 2ms/step - loss: 1.2030 - accuracy: 0.5881 - val_loss: 0.5484 - val_accuracy: 0.9074\n",
      "Epoch 67/1000\n",
      "46/46 [==============================] - ETA: 0s - loss: 1.1767 - accuracy: 0.6053\n",
      "Epoch 67: val_accuracy did not improve from 0.90742\n",
      "46/46 [==============================] - 0s 2ms/step - loss: 1.1767 - accuracy: 0.6053 - val_loss: 0.5452 - val_accuracy: 0.8772\n",
      "Epoch 68/1000\n",
      " 1/46 [..............................] - ETA: 0s - loss: 1.1192 - accuracy: 0.6172\n",
      "Epoch 68: val_accuracy did not improve from 0.90742\n",
      "46/46 [==============================] - 0s 2ms/step - loss: 1.1814 - accuracy: 0.5993 - val_loss: 0.5397 - val_accuracy: 0.8946\n",
      "Epoch 69/1000\n",
      " 1/46 [..............................] - ETA: 0s - loss: 1.1010 - accuracy: 0.6016\n",
      "Epoch 69: val_accuracy did not improve from 0.90742\n",
      "46/46 [==============================] - 0s 2ms/step - loss: 1.1845 - accuracy: 0.5940 - val_loss: 0.5308 - val_accuracy: 0.8818\n",
      "Epoch 70/1000\n",
      " 1/46 [..............................] - ETA: 0s - loss: 1.0122 - accuracy: 0.6719\n",
      "Epoch 70: val_accuracy did not improve from 0.90742\n",
      "46/46 [==============================] - 0s 2ms/step - loss: 1.1792 - accuracy: 0.5947 - val_loss: 0.5352 - val_accuracy: 0.8808\n",
      "Epoch 71/1000\n",
      " 1/46 [..............................] - ETA: 0s - loss: 1.1241 - accuracy: 0.6172\n",
      "Epoch 71: val_accuracy improved from 0.90742 to 0.91049, saving model to sign_lang_detect_right.hdf5\n",
      "46/46 [==============================] - 0s 2ms/step - loss: 1.1765 - accuracy: 0.6029 - val_loss: 0.5337 - val_accuracy: 0.9105\n",
      "Epoch 72/1000\n",
      " 1/46 [..............................] - ETA: 0s - loss: 1.1059 - accuracy: 0.5781\n",
      "Epoch 72: val_accuracy did not improve from 0.91049\n",
      "46/46 [==============================] - 0s 2ms/step - loss: 1.1643 - accuracy: 0.6002 - val_loss: 0.5331 - val_accuracy: 0.9028\n",
      "Epoch 73/1000\n",
      " 1/46 [..............................] - ETA: 0s - loss: 1.1124 - accuracy: 0.6016\n",
      "Epoch 73: val_accuracy did not improve from 0.91049\n",
      "46/46 [==============================] - 0s 2ms/step - loss: 1.1736 - accuracy: 0.5944 - val_loss: 0.5358 - val_accuracy: 0.8711\n",
      "Epoch 74/1000\n",
      " 1/46 [..............................] - ETA: 0s - loss: 1.2310 - accuracy: 0.5703\n",
      "Epoch 74: val_accuracy did not improve from 0.91049\n",
      "46/46 [==============================] - 0s 2ms/step - loss: 1.1565 - accuracy: 0.6009 - val_loss: 0.5157 - val_accuracy: 0.9059\n",
      "Epoch 75/1000\n",
      " 1/46 [..............................] - ETA: 0s - loss: 1.1404 - accuracy: 0.5625\n",
      "Epoch 75: val_accuracy did not improve from 0.91049\n",
      "46/46 [==============================] - 0s 2ms/step - loss: 1.1610 - accuracy: 0.6036 - val_loss: 0.5133 - val_accuracy: 0.8829\n",
      "Epoch 76/1000\n",
      " 1/46 [..............................] - ETA: 0s - loss: 0.9876 - accuracy: 0.6328\n",
      "Epoch 76: val_accuracy did not improve from 0.91049\n",
      "46/46 [==============================] - 0s 2ms/step - loss: 1.1386 - accuracy: 0.6019 - val_loss: 0.5096 - val_accuracy: 0.8757\n",
      "Epoch 77/1000\n",
      " 1/46 [..............................] - ETA: 0s - loss: 1.2959 - accuracy: 0.5234\n",
      "Epoch 77: val_accuracy did not improve from 0.91049\n",
      "46/46 [==============================] - 0s 2ms/step - loss: 1.1463 - accuracy: 0.6060 - val_loss: 0.5006 - val_accuracy: 0.8818\n",
      "Epoch 78/1000\n",
      "45/46 [============================>.] - ETA: 0s - loss: 1.1725 - accuracy: 0.6024\n",
      "Epoch 78: val_accuracy did not improve from 0.91049\n",
      "46/46 [==============================] - 0s 2ms/step - loss: 1.1737 - accuracy: 0.6026 - val_loss: 0.5122 - val_accuracy: 0.8757\n",
      "Epoch 79/1000\n",
      " 1/46 [..............................] - ETA: 0s - loss: 1.1764 - accuracy: 0.5703\n",
      "Epoch 79: val_accuracy did not improve from 0.91049\n",
      "46/46 [==============================] - 0s 2ms/step - loss: 1.1506 - accuracy: 0.5995 - val_loss: 0.5087 - val_accuracy: 0.8900\n",
      "Epoch 80/1000\n",
      "44/46 [===========================>..] - ETA: 0s - loss: 1.1371 - accuracy: 0.6072\n",
      "Epoch 80: val_accuracy did not improve from 0.91049\n",
      "46/46 [==============================] - 0s 2ms/step - loss: 1.1375 - accuracy: 0.6077 - val_loss: 0.4985 - val_accuracy: 0.9069\n",
      "Epoch 81/1000\n",
      " 1/46 [..............................] - ETA: 0s - loss: 1.3927 - accuracy: 0.5547\n",
      "Epoch 81: val_accuracy did not improve from 0.91049\n",
      "46/46 [==============================] - 0s 2ms/step - loss: 1.1478 - accuracy: 0.6080 - val_loss: 0.4920 - val_accuracy: 0.9003\n",
      "Epoch 82/1000\n",
      " 1/46 [..............................] - ETA: 0s - loss: 1.0568 - accuracy: 0.6250\n",
      "Epoch 82: val_accuracy did not improve from 0.91049\n",
      "46/46 [==============================] - 0s 2ms/step - loss: 1.1125 - accuracy: 0.6155 - val_loss: 0.4900 - val_accuracy: 0.9038\n",
      "Epoch 83/1000\n",
      " 1/46 [..............................] - ETA: 0s - loss: 0.9900 - accuracy: 0.6562\n",
      "Epoch 83: val_accuracy did not improve from 0.91049\n",
      "46/46 [==============================] - 0s 2ms/step - loss: 1.1209 - accuracy: 0.6138 - val_loss: 0.4895 - val_accuracy: 0.8921\n",
      "Epoch 84/1000\n",
      " 1/46 [..............................] - ETA: 0s - loss: 1.2157 - accuracy: 0.5547\n",
      "Epoch 84: val_accuracy did not improve from 0.91049\n",
      "46/46 [==============================] - 0s 2ms/step - loss: 1.1207 - accuracy: 0.6162 - val_loss: 0.4790 - val_accuracy: 0.8951\n",
      "Epoch 85/1000\n",
      " 1/46 [..............................] - ETA: 0s - loss: 1.1085 - accuracy: 0.6094\n",
      "Epoch 85: val_accuracy did not improve from 0.91049\n",
      "46/46 [==============================] - 0s 2ms/step - loss: 1.1378 - accuracy: 0.6031 - val_loss: 0.4842 - val_accuracy: 0.8711\n",
      "Epoch 86/1000\n",
      " 1/46 [..............................] - ETA: 0s - loss: 1.3023 - accuracy: 0.5781\n",
      "Epoch 86: val_accuracy did not improve from 0.91049\n",
      "46/46 [==============================] - 0s 2ms/step - loss: 1.1322 - accuracy: 0.6097 - val_loss: 0.4739 - val_accuracy: 0.8875\n",
      "Epoch 87/1000\n",
      " 1/46 [..............................] - ETA: 0s - loss: 0.9732 - accuracy: 0.7109\n",
      "Epoch 87: val_accuracy did not improve from 0.91049\n",
      "46/46 [==============================] - 0s 2ms/step - loss: 1.1262 - accuracy: 0.6097 - val_loss: 0.4919 - val_accuracy: 0.8793\n",
      "Epoch 88/1000\n",
      " 1/46 [..............................] - ETA: 0s - loss: 1.1017 - accuracy: 0.6016\n",
      "Epoch 88: val_accuracy did not improve from 0.91049\n",
      "46/46 [==============================] - 0s 2ms/step - loss: 1.1178 - accuracy: 0.6194 - val_loss: 0.4769 - val_accuracy: 0.9069\n",
      "Epoch 89/1000\n",
      "45/46 [============================>.] - ETA: 0s - loss: 1.1191 - accuracy: 0.6193\n",
      "Epoch 89: val_accuracy did not improve from 0.91049\n",
      "46/46 [==============================] - 0s 2ms/step - loss: 1.1195 - accuracy: 0.6193 - val_loss: 0.4825 - val_accuracy: 0.8772\n",
      "Epoch 90/1000\n",
      " 1/46 [..............................] - ETA: 0s - loss: 0.9673 - accuracy: 0.6406\n",
      "Epoch 90: val_accuracy did not improve from 0.91049\n",
      "46/46 [==============================] - 0s 2ms/step - loss: 1.0909 - accuracy: 0.6324 - val_loss: 0.4709 - val_accuracy: 0.8931\n",
      "Epoch 91/1000\n",
      " 1/46 [..............................] - ETA: 0s - loss: 1.1032 - accuracy: 0.6250\n",
      "Epoch 91: val_accuracy did not improve from 0.91049\n",
      "46/46 [==============================] - 0s 2ms/step - loss: 1.1051 - accuracy: 0.6227 - val_loss: 0.4658 - val_accuracy: 0.8936\n"
     ]
    }
   ],
   "source": [
    "history = tf_model.fit(\n",
    "    X_train,\n",
    "    y_train,\n",
    "    epochs=1000,\n",
    "    batch_size=128,\n",
    "    validation_data=(X_test, y_test),\n",
    "    callbacks=[checkpoint, earlystopping]\n",
    ")"
   ]
  },
  {
   "cell_type": "code",
   "execution_count": 58,
   "id": "c30cab64",
   "metadata": {},
   "outputs": [
    {
     "name": "stdout",
     "output_type": "stream",
     "text": [
      "16/16 [==============================] - 0s 733us/step - loss: 0.4658 - accuracy: 0.8936\n",
      "[2.1035418e-02 3.2589700e-02 1.6009230e-02 4.0949851e-01 2.0647235e-02\n",
      " 2.6306069e-02 6.7693187e-04 2.4861665e-04 3.0298296e-03 1.7139855e-04\n",
      " 1.0571290e-01 5.5309958e-03 3.5722170e-03 2.7975751e-02 4.7152431e-04\n",
      " 8.8016759e-06 5.5886092e-05 2.0290645e-02 1.9371571e-02 1.5379746e-03\n",
      " 3.1089666e-03 3.1808745e-02 3.1119122e-03 3.7416954e-02 2.6557096e-03\n",
      " 2.0715652e-01]\n",
      "3\n"
     ]
    }
   ],
   "source": [
    "val_loss, val_acc = tf_model.evaluate(X_test, y_test, batch_size=128)\n",
    "model = tf.keras.models.load_model(model_path)\n",
    "predict_result = model.predict(np.array([X_test[0]]))\n",
    "print(np.squeeze(predict_result))\n",
    "print(np.argmax(np.squeeze(predict_result)))"
   ]
  },
  {
   "cell_type": "markdown",
   "id": "4179602a",
   "metadata": {},
   "source": [
    "## Evaluate Model"
   ]
  },
  {
   "cell_type": "markdown",
   "id": "fdddc92a",
   "metadata": {},
   "source": [
    "### Graph"
   ]
  },
  {
   "cell_type": "code",
   "execution_count": 59,
   "id": "a876f778",
   "metadata": {},
   "outputs": [
    {
     "data": {
      "image/png": "[encoded data removed]",
      "text/plain": [
       "<Figure size 432x288 with 1 Axes>"
      ]
     },
     "metadata": {
      "needs_background": "light"
     },
     "output_type": "display_data"
    }
   ],
   "source": [
    "plt.plot(history.history['accuracy'])\n",
    "plt.plot(history.history['val_accuracy'])\n",
    "plt.title('Model accuracy')\n",
    "plt.ylabel('accuracy')\n",
    "plt.xlabel('epoch')\n",
    "plt.legend(['TRAIN', 'VAL'], loc='lower right')\n",
    "plt.show()"
   ]
  },
  {
   "cell_type": "markdown",
   "id": "c8c99542",
   "metadata": {},
   "source": [
    "### Confusion Matrix"
   ]
  },
  {
   "cell_type": "code",
   "execution_count": 68,
   "id": "76958390",
   "metadata": {},
   "outputs": [
    {
     "data": {
      "image/png": "[encoded data removed]",
      "text/plain": [
       "<Figure size 504x432 with 2 Axes>"
      ]
     },
     "metadata": {
      "needs_background": "light"
     },
     "output_type": "display_data"
    },
    {
     "name": "stdout",
     "output_type": "stream",
     "text": [
      "Classification Report\n",
      "              precision    recall  f1-score   support\n",
      "\n",
      "           0       1.00      0.72      0.84        82\n",
      "           1       1.00      0.91      0.95        92\n",
      "           2       0.78      1.00      0.88        70\n",
      "           3       1.00      0.92      0.96        79\n",
      "           4       1.00      0.99      0.99        85\n",
      "           5       1.00      1.00      1.00        76\n",
      "           6       0.54      0.77      0.63        66\n",
      "           7       0.67      0.43      0.52        77\n",
      "           8       0.95      1.00      0.97        78\n",
      "           9       1.00      1.00      1.00        70\n",
      "          10       0.97      1.00      0.99        66\n",
      "          11       0.99      1.00      0.99        68\n",
      "          12       0.71      1.00      0.83        62\n",
      "          13       0.98      0.67      0.79        75\n",
      "          14       1.00      0.99      0.99        76\n",
      "          15       1.00      1.00      1.00        79\n",
      "          16       1.00      1.00      1.00        88\n",
      "          17       0.83      0.97      0.89        70\n",
      "          18       0.78      1.00      0.88        73\n",
      "          19       1.00      1.00      1.00        66\n",
      "          20       0.52      1.00      0.68        65\n",
      "          21       1.00      0.06      0.12        81\n",
      "          22       1.00      1.00      1.00        81\n",
      "          23       1.00      1.00      1.00        71\n",
      "          24       1.00      0.95      0.97        81\n",
      "          25       1.00      0.96      0.98        78\n",
      "\n",
      "    accuracy                           0.89      1955\n",
      "   macro avg       0.91      0.90      0.88      1955\n",
      "weighted avg       0.92      0.89      0.88      1955\n",
      "\n"
     ]
    }
   ],
   "source": [
    "def print_confusion_matrix(y_true, y_pred, report=True):\n",
    "    labels = sorted(list(set(y_true)))\n",
    "    cmx_data = confusion_matrix(y_true, y_pred, labels=labels)\n",
    "    \n",
    "    df_cmx = pd.DataFrame(cmx_data, index=labels, columns=labels)\n",
    " \n",
    "    fig, ax = plt.subplots(figsize=(7, 6))\n",
    "    sns.heatmap(df_cmx, annot=True, fmt='g' ,square=False)\n",
    "    ax.set_ylim(len(set(y_true)), 0)\n",
    "    plt.show()\n",
    "    \n",
    "    if report:\n",
    "        print('Classification Report')\n",
    "        print(classification_report(y_test, y_pred))\n",
    "\n",
    "Y_pred = tf_model.predict(X_test)\n",
    "y_pred = np.argmax(Y_pred, axis=1)\n",
    "\n",
    "print_confusion_matrix(y_test, y_pred)"
   ]
  },
  {
   "cell_type": "code",
   "execution_count": 69,
   "id": "9970c716",
   "metadata": {},
   "outputs": [
    {
     "name": "stdout",
     "output_type": "stream",
     "text": [
      "62/62 [==============================] - 0s 557us/step - loss: 0.4658 - accuracy: 0.8936\n"
     ]
    }
   ],
   "source": [
    "loss, accuracy = tf_model.evaluate(X_test, y_test)"
   ]
  },
  {
   "cell_type": "markdown",
   "id": "166fdf36",
   "metadata": {},
   "source": [
    "# TFLite Model Conversion"
   ]
  },
  {
   "cell_type": "code",
   "execution_count": 70,
   "id": "574dda59",
   "metadata": {
    "scrolled": true
   },
   "outputs": [
    {
     "name": "stdout",
     "output_type": "stream",
     "text": [
      "INFO:tensorflow:Assets written to: C:\\Users\\Shiv\\AppData\\Local\\Temp\\tmpmoghmbn7\\assets\n"
     ]
    },
    {
     "name": "stderr",
     "output_type": "stream",
     "text": [
      "INFO:tensorflow:Assets written to: C:\\Users\\Shiv\\AppData\\Local\\Temp\\tmpmoghmbn7\\assets\n",
      "WARNING:absl:Buffer deduplication procedure will be skipped when flatbuffer library is not properly loaded\n"
     ]
    },
    {
     "data": {
      "text/plain": [
       "7392"
      ]
     },
     "execution_count": 70,
     "metadata": {},
     "output_type": "execute_result"
    }
   ],
   "source": [
    "model.save(model_path, include_optimizer=False)\n",
    "converter = tf.lite.TFLiteConverter.from_keras_model(model)\n",
    "converter.optimizations = [tf.lite.Optimize.DEFAULT]\n",
    "tflite_quantized_model = converter.convert()\n",
    "#tflite_quantized_model\n",
    "\n",
    "open(tflite_right_save_path, 'wb').write(tflite_quantized_model)"
   ]
  },
  {
   "cell_type": "markdown",
   "id": "500d525d",
   "metadata": {},
   "source": [
    "## Detection for TensorFlowLite Model"
   ]
  },
  {
   "cell_type": "code",
   "execution_count": 3,
   "id": "a9cadad9",
   "metadata": {},
   "outputs": [],
   "source": [
    "class SignClassifier(object):\n",
    "    def __init__(self,model_path='sign_lang_detect_right.tflite',num_threads=1,):\n",
    "        self.interpreter = tf.lite.Interpreter(model_path=model_path,num_threads=num_threads)\n",
    "        self.interpreter.allocate_tensors()\n",
    "        self.input_details = self.interpreter.get_input_details()\n",
    "        self.output_details = self.interpreter.get_output_details()\n",
    "\n",
    "    def __call__(self,landmark_list,):\n",
    "        input_details_tensor_index = self.input_details[0]['index']\n",
    "        self.interpreter.set_tensor(input_details_tensor_index,np.array([landmark_list], dtype=np.float32))\n",
    "        self.interpreter.invoke()\n",
    "\n",
    "        output_details_tensor_index = self.output_details[0]['index']\n",
    "        result = self.interpreter.get_tensor(output_details_tensor_index)\n",
    "        result_index = np.argmax(np.squeeze(result))\n",
    "\n",
    "        return result_index"
   ]
  },
  {
   "cell_type": "code",
   "execution_count": null,
   "id": "13015922",
   "metadata": {},
   "outputs": [],
   "source": [
    "sign_classifier = SignClassifier()\n",
    "mphands = mp.solutions.hands\n",
    "hands = mphands.Hands(\n",
    "        static_image_mode=True,\n",
    "        max_num_hands=1,\n",
    "        min_detection_confidence=0.7,\n",
    "        min_tracking_confidence=0.5,\n",
    "    )\n",
    "mp_drawing = mp.solutions.drawing_utils\n",
    "cap = cv2.VideoCapture(0)\n",
    "cap.set(cv2.CAP_PROP_FRAME_WIDTH, 960)\n",
    "cap.set(cv2.CAP_PROP_FRAME_HEIGHT, 540)\n",
    "\n",
    "_, frame = cap.read()\n",
    "h, w, c = frame.shape\n",
    "index = 0\n",
    "\n",
    "while True:\n",
    "    _, frame = cap.read()\n",
    "    img_debug=copy.deepcopy(frame)\n",
    "    framergb = cv2.cvtColor(frame, cv2.COLOR_BGR2RGB)\n",
    "    framergb.flags.writeable = True\n",
    "    result = hands.process(framergb)\n",
    "    framergb.flags.writeable = False\n",
    "    hand_landmarks = result.multi_hand_landmarks\n",
    "    if hand_landmarks:\n",
    "        for handLMs in hand_landmarks:\n",
    "            x_max = 0\n",
    "            y_max = 0\n",
    "            x_min = w\n",
    "            y_min = h\n",
    "            landmarks = calc_landmark_list(framergb, handLMs)\n",
    "            pre_processed_landmarks = preprocess_landmark(landmarks)\n",
    "            sign_language_class = sign_classifier(pre_processed_landmarks)\n",
    "            sign_language_prob = tf_model.predict_proba(pre_processed_landmarks)\n",
    "            frame = cv2.putText(frame, \"{}\".format(labels[sign_language_class]), (90,400), cv2.FONT_HERSHEY_SIMPLEX, 3, (0,0,0), 5)\n",
    "            print(sign_language_class, sign_language_prob)\n",
    "            for lm in handLMs.landmark:\n",
    "                x, y = int(lm.x * w), int(lm.y * h)\n",
    "                if x > x_max:\n",
    "                    x_max = x\n",
    "                if x < x_min:\n",
    "                    x_min = x\n",
    "                if y > y_max:\n",
    "                    y_max = y\n",
    "                if y < y_min:\n",
    "                    y_min = y\n",
    "            cv2.rectangle(frame, (x_min, y_min), (x_max, y_max), (0, 255, 0), 2)\n",
    "            mp_drawing.draw_landmarks(frame, handLMs, mphands.HAND_CONNECTIONS)\n",
    "    cv2.imshow(\"Test\", frame)\n",
    "    if cv2.waitKey(10) & 0xFF == ord('x'):\n",
    "            break\n",
    "cap.release()\n",
    "cv2.destroyAllWindows()"
   ]
  }
 ],
 "metadata": {
  "kernelspec": {
   "display_name": "iss",
   "language": "python",
   "name": "iss"
  },
  "language_info": {
   "codemirror_mode": {
    "name": "ipython",
    "version": 3
   },
   "file_extension": ".py",
   "mimetype": "text/x-python",
   "name": "python",
   "nbconvert_exporter": "python",
   "pygments_lexer": "ipython3",
   "version": "3.7.8"
  }
 },
 "nbformat": 4,
 "nbformat_minor": 5
}
